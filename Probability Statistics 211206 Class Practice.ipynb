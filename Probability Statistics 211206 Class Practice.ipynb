{
 "cells": [
  {
   "cell_type": "markdown",
   "id": "b82ad9c9",
   "metadata": {},
   "source": [
    "# 확률과 통계 수업 실습"
   ]
  },
  {
   "cell_type": "markdown",
   "id": "9a39e65e",
   "metadata": {},
   "source": [
    "### scipy 사용법"
   ]
  },
  {
   "cell_type": "code",
   "execution_count": 4,
   "id": "9e8efd4a",
   "metadata": {},
   "outputs": [
    {
     "name": "stdout",
     "output_type": "stream",
     "text": [
      "0.18044704431548356\n",
      "3\n",
      "0.09666702920071232\n",
      "0.4012936743170763\n",
      "-0.12090722389069519\n"
     ]
    }
   ],
   "source": [
    "from scipy import stats\n",
    "import math\n",
    "\n",
    "Y = stats.poisson(2)\t\t# Y는 Poisson random variable\n",
    "print(Y.pmf(3))\t# P(Y = 3)\n",
    "print(Y.rvs())\t# Y의 random sample\n",
    "\n",
    "A = stats.norm(3, math.sqrt(16))\t# A는 정규 분포 r. v.\n",
    "print(A.pdf(4))\t# f(3)\n",
    "print(A.cdf(2))\t# F(2)\n",
    "print(A.rvs())\t# A의 random sample"
   ]
  },
  {
   "cell_type": "markdown",
   "id": "df148598",
   "metadata": {},
   "source": [
    "## ppf를 통해 z검정 , 모분산을 모를때"
   ]
  },
  {
   "cell_type": "code",
   "execution_count": 12,
   "id": "a41dcb36",
   "metadata": {},
   "outputs": [
    {
     "name": "stdout",
     "output_type": "stream",
     "text": [
      "[6.97600362e-17 2.67180866e-01 5.59429644e-01 1.47588405e+00\n",
      " 2.01504837e+00 2.75650852e+00 3.36493000e+00]\n"
     ]
    }
   ],
   "source": [
    "from scipy.stats import t, norm\n",
    "import numpy as np\n",
    "\n",
    "alpha = np.array([0.5, 0.4, 0.3, 0.1, 0.05 , 0.02, 0.01])\n",
    "df = 5\n",
    "val = t.ppf(1-alpha, df)\n",
    "print(val)"
   ]
  },
  {
   "cell_type": "markdown",
   "id": "a7a149cc",
   "metadata": {},
   "source": [
    "## ppf를 통해 z검정 , 모분산을 모를때"
   ]
  },
  {
   "cell_type": "code",
   "execution_count": 6,
   "id": "0b2da3a3",
   "metadata": {},
   "outputs": [
    {
     "name": "stdout",
     "output_type": "stream",
     "text": [
      "2.5758293035489004 -2.8284271247461925 0.004677734981047177\n"
     ]
    }
   ],
   "source": [
    "from scipy.stats import norm\n",
    "import numpy as np\n",
    "\n",
    "z005 = norm.ppf(1-0.005)\n",
    "\n",
    "z = (7.8-8)/(0.5/np.sqrt(50))\n",
    "\n",
    "P_val = 2*(1-norm.cdf(np.abs(z)))\n",
    "print(z005, z, P_val)"
   ]
  },
  {
   "cell_type": "markdown",
   "id": "893f2e01",
   "metadata": {},
   "source": [
    "## numpy를 이용해 regression 구하기 "
   ]
  },
  {
   "cell_type": "code",
   "execution_count": 11,
   "id": "1dfce0a2",
   "metadata": {},
   "outputs": [
    {
     "data": {
      "image/png": "[encoded data removed]",
      "text/plain": [
       "<Figure size 432x288 with 1 Axes>"
      ]
     },
     "metadata": {
      "needs_background": "light"
     },
     "output_type": "display_data"
    },
    {
     "name": "stdout",
     "output_type": "stream",
     "text": [
      "b1= 0.9036432105793232 b0= 3.8296331975887057\n"
     ]
    }
   ],
   "source": [
    "import numpy as np\n",
    "import matplotlib.pyplot as plt\n",
    "\n",
    "x = np.array([3,7,11,15,18,27,29,30,30,31,31,32,33,33,34,36,36, \t36,37,38,39,39,39,40,41,42,42,43,44,45,46,47,50])\n",
    "y = np.array([5,11,21,16,16,28,27,25,35,30,40,32,34,32,34,37,38, \t34,36,38,37,36,45,39,41,40,44,37,44,46,46,49,51])\n",
    "xbar = np.mean(x)\n",
    "ybar = np.mean(y)\n",
    "b1 =np.sum((x-xbar)*(y-ybar)) / np.sum((x-xbar)*(x-xbar))\n",
    "b0 = ybar - b1*xbar\n",
    "\n",
    "# 회귀 직선 그리기\n",
    "xfit = np.linspace(0,55,100)\n",
    "yfit = b1 * xfit + b0\n",
    "\n",
    "plt.scatter(x,y)\n",
    "plt.plot(xfit,yfit,'r')\n",
    "plt.show()\n",
    "\n",
    "print('b1=', b1, 'b0=', b0)"
   ]
  },
  {
   "cell_type": "markdown",
   "id": "a5befdb8",
   "metadata": {},
   "source": [
    "## sklearn 함수\n",
    "- sklearn에 있는 regression을 이용하면 식을 이용하지 않고도 답을 구해줄 수 있음"
   ]
  },
  {
   "cell_type": "code",
   "execution_count": 10,
   "id": "748279b2",
   "metadata": {},
   "outputs": [
    {
     "name": "stdout",
     "output_type": "stream",
     "text": [
      "4.241692439297228\n",
      "0.8919523590182272\n"
     ]
    },
    {
     "data": {
      "image/png": "[encoded data removed]",
      "text/plain": [
       "<Figure size 432x288 with 1 Axes>"
      ]
     },
     "metadata": {
      "needs_background": "light"
     },
     "output_type": "display_data"
    }
   ],
   "source": [
    "import numpy as np\n",
    "import matplotlib.pyplot as plt\n",
    "from sklearn.linear_model import LinearRegression\n",
    "\n",
    "x = np.array([[3],[7],[11],[15],[18],[27],[29],[30],[30],[31],[31],[32],[33],[33],[34],[36],[36]])\n",
    "y = np.array([[5],[11],[21],[16],[16],[28],[27],[25],[35],[30],[40],[32],[34],[32],[34],[37],[38]])\n",
    "\n",
    "reg = LinearRegression().fit(x,y)\n",
    "\n",
    "# 회귀 직선 계수\n",
    "print(reg.intercept_[0])\t# y-절편\n",
    "print(reg.coef_[0][0])\t# 기울기\n",
    "\n",
    "plt.scatter(x,y)\n",
    "plt.plot(x,reg.predict(x),'r')\n",
    "plt.show()\n"
   ]
  },
  {
   "cell_type": "code",
   "execution_count": null,
   "id": "b6d71534",
   "metadata": {},
   "outputs": [],
   "source": []
  }
 ],
 "metadata": {
  "kernelspec": {
   "display_name": "Python 3 (ipykernel)",
   "language": "python",
   "name": "python3"
  },
  "language_info": {
   "codemirror_mode": {
    "name": "ipython",
    "version": 3
   },
   "file_extension": ".py",
   "mimetype": "text/x-python",
   "name": "python",
   "nbconvert_exporter": "python",
   "pygments_lexer": "ipython3",
   "version": "3.8.11"
  }
 },
 "nbformat": 4,
 "nbformat_minor": 5
}
